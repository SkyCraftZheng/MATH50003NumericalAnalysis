{
 "cells": [
  {
   "cell_type": "markdown",
   "metadata": {},
   "source": [
    "# MATH50003 Numerical Analysis (2022–23)\n",
    "# Lab 5: Orthogonal Matrices"
   ]
  },
  {
   "cell_type": "markdown",
   "metadata": {},
   "source": [
    "This lab explores orthogonal matrices, including permutations and reflections.\n",
    "We will construct special types to capture the structure of these orthogonal operations,\n",
    "With the goal of implementing fast matrix*vector and matrix\\vector operations."
   ]
  },
  {
   "cell_type": "code",
   "execution_count": 34,
   "metadata": {},
   "outputs": [],
   "source": [
    "using LinearAlgebra, Test\n",
    "import Base: getindex, *, size, \\"
   ]
  },
  {
   "cell_type": "markdown",
   "metadata": {},
   "source": [
    "------"
   ]
  },
  {
   "cell_type": "markdown",
   "metadata": {},
   "source": [
    "**Problem 1** Complete the implementation of a type representing\n",
    "permutation matrices that supports `P[k,j]` in $O(1)$ operations and `*` in $O(n)$ operations,\n",
    "where $n$ is the length of the permutation."
   ]
  },
  {
   "cell_type": "code",
   "execution_count": 35,
   "metadata": {},
   "outputs": [
    {
     "data": {
      "text/plain": [
       "\u001b[32m\u001b[1mTest Passed\u001b[22m\u001b[39m"
      ]
     },
     "metadata": {},
     "output_type": "display_data"
    }
   ],
   "source": [
    "struct PermutationMatrix <: AbstractMatrix{Int}\n",
    "    p::Vector{Int} # represents the permutation whose action is v[p]\n",
    "    # This is an internal constructor: allows us to check validity of the input.\n",
    "    function PermutationMatrix(p::Vector)\n",
    "        sort(p) == 1:length(p) || error(\"input is not a valid permutation\")\n",
    "        new(p)\n",
    "    end\n",
    "end\n",
    "\n",
    "function size(P::PermutationMatrix)\n",
    "    (length(P.p),length(P.p))\n",
    "end\n",
    "\n",
    "# getindex(P, k, j) is a synonym for P[k,j]\n",
    "function getindex(P::PermutationMatrix, k::Int, j::Int)\n",
    "    # TODO: Implement P[k,j]\n",
    "    if p[k] == j\n",
    "        1\n",
    "    else\n",
    "        0\n",
    "    end\n",
    "end\n",
    "function *(P::PermutationMatrix, x::AbstractVector)\n",
    "    # TODO: return a vector whose entries are permuted according to P.p\n",
    "    x[P.p]\n",
    "end\n",
    "\n",
    "# If your code is correct, this \"unit test\" will succeed\n",
    "p = [1, 4, 2, 5, 3]\n",
    "P = PermutationMatrix(p)\n",
    "@test P == I(5)[p,:]\n",
    "\n",
    "n = 100_000\n",
    "p = Vector(n:-1:1) # makes a Vector corresponding to [n,n-1,…,1]\n",
    "P = PermutationMatrix(p)\n",
    "x = randn(n)\n",
    "@test P*x == x[p]"
   ]
  },
  {
   "cell_type": "markdown",
   "metadata": {},
   "source": [
    "-------"
   ]
  },
  {
   "cell_type": "markdown",
   "metadata": {},
   "source": [
    "**Problem 2.1** Complete the implementation of a type representing an n × n\n",
    "reflection that supports `Q[k,j]` in $O(1)$ operations and `*` in $O(n)$ operations.\n",
    "The reflection may be complex (that is, $Q ∈ U(n)$ is unitary)."
   ]
  },
  {
   "cell_type": "code",
   "execution_count": 36,
   "metadata": {},
   "outputs": [
    {
     "data": {
      "text/plain": [
       "\u001b[32m\u001b[1mTest Passed\u001b[22m\u001b[39m"
      ]
     },
     "metadata": {},
     "output_type": "display_data"
    }
   ],
   "source": [
    "# Represents I - 2v*v'\n",
    "struct Reflection{T} <: AbstractMatrix{T}\n",
    "    v::Vector{T}\n",
    "end\n",
    "\n",
    "Reflection(x::Vector{T}) where T = Reflection{T}(x/norm(x))\n",
    "\n",
    "function size(Q::Reflection)\n",
    "    (length(Q.v),length(Q.v))\n",
    "end\n",
    "\n",
    "# getindex(Q, k, j) is synonym for Q[k,j]\n",
    "function getindex(Q::Reflection, k::Int, j::Int)\n",
    "    # TODO: implement Q[k,j] == (I - 2v*v')[k,j] but using O(1) operations.\n",
    "    # Hint: the function `conj` gives the complex-conjugate\n",
    "    -2 * v[k] * conj(v[j]) + (k == j ? 1 : 0)\n",
    "end\n",
    "function *(Q::Reflection, x::AbstractVector)\n",
    "    # TODO: implement Q*x, equivalent to (I - 2v*v')*x but using only O(n) operations\n",
    "    x - 2*Q.v * dot(Q.v,x)\n",
    "end\n",
    "\n",
    "# If your code is correct, these \"unit tests\" will succeed\n",
    "n = 10\n",
    "x = randn(n) + im*randn(n)\n",
    "Q = Reflection(x)\n",
    "v = x/norm(x)\n",
    "@test Q == I-2v*v'\n",
    "@test Q'Q ≈ I\n",
    "n = 100_000\n",
    "x = randn(n) + im*randn(n)\n",
    "Q = Reflection(x)\n",
    "v = x/norm(x)\n",
    "@test Q*v ≈ -v"
   ]
  },
  {
   "cell_type": "markdown",
   "metadata": {},
   "source": [
    "**Problem 2.2** Complete the following implementation of a Housholder reflection  so that the\n",
    "unit tests pass, using the `Reflection` type created above.\n",
    "Here `s == true` means the Householder reflection is sent to the positive axis and `s == false` is the negative axis."
   ]
  },
  {
   "cell_type": "code",
   "execution_count": 37,
   "metadata": {},
   "outputs": [
    {
     "name": "stdout",
     "output_type": "stream",
     "text": [
      "\u001b[91m\u001b[1mTest Failed\u001b[22m\u001b[39m at \u001b[39m\u001b[1m/workspaces/MATH50003NumericalAnalysis/labs/lab5.ipynb:15\u001b[22m\n",
      "  Expression: Q * x ≈ [norm(x); zeros(eltype(x), length(x) - 1)]\n",
      "   Evaluated: [-1.8158680972198482, -2.7755575615628914e-17, 8.673617379884035e-19, -1.1102230246251565e-16, 2.220446049250313e-16] ≈ [1.8158680972198482, 0.0, 0.0, 0.0, 0.0]\n"
     ]
    },
    {
     "ename": "Test.FallbackTestSetException",
     "evalue": "Test.FallbackTestSetException(\"There was an error during testing\")",
     "output_type": "error",
     "traceback": [
      "Test.FallbackTestSetException(\"There was an error during testing\")\n",
      "\n",
      "Stacktrace:\n",
      " [1] record(ts::Test.FallbackTestSet, t::Union{Test.Error, Test.Fail})\n",
      "   @ Test /usr/local/julia/share/julia/stdlib/v1.8/Test/src/Test.jl:946\n",
      " [2] do_test(result::Test.ExecutionResult, orig_expr::Any)\n",
      "   @ Test /usr/local/julia/share/julia/stdlib/v1.8/Test/src/Test.jl:656\n",
      " [3] top-level scope\n",
      "   @ /usr/local/julia/share/julia/stdlib/v1.8/Test/src/Test.jl:464"
     ]
    }
   ],
   "source": [
    "function householderreflection(s::Bool, x::AbstractVector)\n",
    "    # TODO: return a `Reflection` corresponding to a Householder reflection\n",
    "    y = copy(x)\n",
    "    if x[1] == 0\n",
    "        y[1] += norm(x) \n",
    "    else # note sign(z) = exp(im*angle(z)) where `angle` is the argument of a complex number\n",
    "        y[1] += sign(x[1])*norm(x)*(s ? -1 : 1)\n",
    "    end\n",
    "    Reflection(y/norm(y))\n",
    "end\n",
    "\n",
    "x = randn(5)\n",
    "Q = householderreflection(true, x)\n",
    "@test Q isa Reflection\n",
    "@test Q*x ≈ [norm(x);zeros(eltype(x),length(x)-1)]\n",
    "\n",
    "Q = householderreflection(false, x)\n",
    "@test Q isa Reflection\n",
    "@test Q*x ≈ [-norm(x);zeros(eltype(x),length(x)-1)]"
   ]
  },
  {
   "cell_type": "markdown",
   "metadata": {},
   "source": [
    "---------"
   ]
  },
  {
   "cell_type": "markdown",
   "metadata": {},
   "source": [
    "**Problem 3**\n",
    "Complete the definition of `Reflections` which supports a sequence of reflections,\n",
    "that is,\n",
    "$$\n",
    "Q = Q_{𝐯_1} ⋯ Q_{𝐯_m}\n",
    "$$\n",
    "where the vectors are stored as a matrix $V ∈ ℂ^{n × m}$ whose $j$-th column is $𝐯_j∈ ℂ^n$, and\n",
    "$$\n",
    "Q_{𝐯_j} = I - 2 𝐯_j 𝐯_j^⋆\n",
    "$$\n",
    "is a reflection."
   ]
  },
  {
   "cell_type": "code",
   "execution_count": 41,
   "metadata": {},
   "outputs": [
    {
     "data": {
      "text/plain": [
       "\u001b[32m\u001b[1mTest Passed\u001b[22m\u001b[39m"
      ]
     },
     "metadata": {},
     "output_type": "display_data"
    }
   ],
   "source": [
    "struct Reflections{T} <: AbstractMatrix{T}\n",
    "    V::Matrix{T}\n",
    "end\n",
    "\n",
    "size(Q::Reflections) = (size(Q.V,1), size(Q.V,1))\n",
    "\n",
    "function *(Q::Reflections, x::AbstractVector)\n",
    "    # TODO: Apply Q in O(mn) operations by applying\n",
    "    # the reflection corresponding to each column of Q.V to x\n",
    "    for i = size(Q.V, 2):-1:1\n",
    "        x = Reflection(Q.V[:,i]) * x\n",
    "    end\n",
    "    x\n",
    "end\n",
    "\n",
    "function getindex(Q::Reflections, k::Int, j::Int)\n",
    "    # TODO: Return Q[k,j] in O(mn) operations (hint: use *)\n",
    "    T = eltype(Q.V)\n",
    "    m,n = size(Q)\n",
    "    ej = zeros(T, m)\n",
    "    ej[j] = one(T)\n",
    "    \n",
    "    (Q*ej)[k]\n",
    "end\n",
    "\n",
    "Y = randn(5,3)\n",
    "V = Y * Diagonal([1/norm(Y[:,j]) for j=1:3])\n",
    "Q = Reflections(V)\n",
    "@test Q ≈ (I - 2V[:,1]*V[:,1]')*(I - 2V[:,2]*V[:,2]')*(I - 2V[:,3]*V[:,3]')\n",
    "@test Q'Q ≈ I"
   ]
  },
  {
   "cell_type": "markdown",
   "metadata": {},
   "source": [
    "---\n",
    "\n",
    "*This notebook was generated using [Literate.jl](https://github.com/fredrikekre/Literate.jl).*"
   ]
  }
 ],
 "metadata": {
  "kernelspec": {
   "display_name": "Julia 1.8.4",
   "language": "julia",
   "name": "julia-1.8"
  },
  "language_info": {
   "file_extension": ".jl",
   "mimetype": "application/julia",
   "name": "julia",
   "version": "1.8.4"
  }
 },
 "nbformat": 4,
 "nbformat_minor": 3
}
